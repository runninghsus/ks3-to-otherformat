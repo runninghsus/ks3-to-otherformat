{
 "cells": [
  {
   "cell_type": "code",
   "execution_count": 1,
   "id": "38370d2d",
   "metadata": {},
   "outputs": [],
   "source": [
    "import pandas as pd\n",
    "import numpy as np\n",
    "import matplotlib.pyplot as plt"
   ]
  },
  {
   "cell_type": "code",
   "execution_count": 13,
   "id": "e84d6b6e",
   "metadata": {},
   "outputs": [],
   "source": [
    "df = pd.read_csv('/Users/ahsu/Downloads/spiketimes.csv')"
   ]
  },
  {
   "cell_type": "code",
   "execution_count": 14,
   "id": "d3be02a1",
   "metadata": {},
   "outputs": [],
   "source": [
    "data_dict = np.load('/Users/ahsu/Downloads/spiketimes.npy', allow_pickle=True)[()]"
   ]
  },
  {
   "cell_type": "code",
   "execution_count": 15,
   "id": "781fe500",
   "metadata": {},
   "outputs": [
    {
     "data": {
      "text/plain": [
       "(0          1.717800\n",
       " 1          1.734267\n",
       " 2         15.638900\n",
       " 3         16.958600\n",
       " 4         86.507133\n",
       "             ...    \n",
       " 486378          NaN\n",
       " 486379          NaN\n",
       " 486380          NaN\n",
       " 486381          NaN\n",
       " 486382          NaN\n",
       " Name: neuron 101, Length: 486383, dtype: float64,\n",
       " array([2.08433333e-01, 8.16690000e+00, 8.24133333e+00, ...,\n",
       "        1.62727747e+04, 1.63335802e+04, 1.63403331e+04]))"
      ]
     },
     "execution_count": 15,
     "metadata": {},
     "output_type": "execute_result"
    }
   ],
   "source": [
    "df['neuron 101'], data_dict['neuron 656']"
   ]
  },
  {
   "cell_type": "code",
   "execution_count": null,
   "id": "55ec4146-4b58-40ae-9859-8968074b8577",
   "metadata": {},
   "outputs": [],
   "source": []
  }
 ],
 "metadata": {
  "kernelspec": {
   "display_name": "Python 3 (ipykernel)",
   "language": "python",
   "name": "python3"
  },
  "language_info": {
   "codemirror_mode": {
    "name": "ipython",
    "version": 3
   },
   "file_extension": ".py",
   "mimetype": "text/x-python",
   "name": "python",
   "nbconvert_exporter": "python",
   "pygments_lexer": "ipython3",
   "version": "3.9.0"
  }
 },
 "nbformat": 4,
 "nbformat_minor": 5
}
